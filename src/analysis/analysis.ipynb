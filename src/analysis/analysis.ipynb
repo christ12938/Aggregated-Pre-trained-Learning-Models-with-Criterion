{
 "cells": [
  {
   "cell_type": "code",
   "execution_count": 173,
   "outputs": [],
   "source": [
    "import pandas as pd\n",
    "import numpy as np"
   ],
   "metadata": {
    "collapsed": false,
    "ExecuteTime": {
     "start_time": "2023-04-02T22:34:16.283639Z",
     "end_time": "2023-04-02T22:34:16.328200Z"
    }
   }
  },
  {
   "cell_type": "code",
   "execution_count": 174,
   "metadata": {
    "collapsed": true,
    "ExecuteTime": {
     "start_time": "2023-04-02T22:34:16.328150Z",
     "end_time": "2023-04-02T22:34:16.328400Z"
    }
   },
   "outputs": [],
   "source": [
    "vocab_128_path = \"/home/chris/COMP4951-Thesis-Out-of-Vocab-Seed-Mining/src/data/scidocs_data/scidocs_vocab_128.csv\"\n",
    "vocab_256_path = \"/home/chris/COMP4951-Thesis-Out-of-Vocab-Seed-Mining/src/data/scidocs_data/scidocs_vocab_256.csv\"\n",
    "vocab_512_path = \"/home/chris/COMP4951-Thesis-Out-of-Vocab-Seed-Mining/src/data/scidocs_data/scidocs_vocab_512.csv\""
   ]
  },
  {
   "cell_type": "code",
   "execution_count": 175,
   "outputs": [],
   "source": [
    "def get_seeds():\n",
    "    seeds = [\n",
    "        'cardiovascular diseases',\n",
    "        'chronic kidney disease',\n",
    "        'chronic respiratory diseases',\n",
    "        'diabetes mellitus',\n",
    "        'digestive diseases',\n",
    "        'hiv/aids',\n",
    "        'hepatitis a/b/c/e',\n",
    "        'mental disorders',\n",
    "        'musculoskeletal disorders',\n",
    "        'neoplasms (cancer)',\n",
    "        'neurological disorders',\n",
    "        'hiv',\n",
    "        'disease'\n",
    "    ]\n",
    "    return seeds"
   ],
   "metadata": {
    "collapsed": false,
    "ExecuteTime": {
     "start_time": "2023-04-02T22:34:16.328184Z",
     "end_time": "2023-04-02T22:34:16.328433Z"
    }
   }
  },
  {
   "cell_type": "code",
   "execution_count": 176,
   "outputs": [],
   "source": [
    "def check_vocab_seeds(vocabs_df):\n",
    "    vocabs = np.array(vocabs_df['vocabs'])\n",
    "    seeds = get_seeds()\n",
    "    final_seeds = []\n",
    "    for seed in seeds:\n",
    "        final_seeds.extend(seed.split(\" \"))\n",
    "    vocab_seed_details = {key: 0 for key in final_seeds}\n",
    "    for vocab in vocabs:\n",
    "        for seed in seeds:\n",
    "            if seed in vocab:\n",
    "                vocab_seed_details[seed] += 1\n",
    "\n",
    "    for key, val in vocab_seed_details.items():\n",
    "        print(f\"Seed = {key}, Occurence: {val}\")"
   ],
   "metadata": {
    "collapsed": false,
    "ExecuteTime": {
     "start_time": "2023-04-02T22:34:16.328295Z",
     "end_time": "2023-04-02T22:34:16.328474Z"
    }
   }
  },
  {
   "cell_type": "code",
   "execution_count": 177,
   "outputs": [],
   "source": [
    "vocab_128_df = pd.read_csv(vocab_128_path)\n",
    "vocab_256_df = pd.read_csv(vocab_256_path)\n",
    "vocab_512_df = pd.read_csv(vocab_512_path)"
   ],
   "metadata": {
    "collapsed": false,
    "ExecuteTime": {
     "start_time": "2023-04-02T22:34:16.328376Z",
     "end_time": "2023-04-02T22:34:16.535358Z"
    }
   }
  },
  {
   "cell_type": "code",
   "execution_count": 178,
   "outputs": [
    {
     "name": "stdout",
     "output_type": "stream",
     "text": [
      "Total Vocabs in 128 Sentence Length = 7581136\n"
     ]
    }
   ],
   "source": [
    "print(f\"Total Vocabs in 128 Sentence Length = {vocab_128_df['count'].sum()}\")"
   ],
   "metadata": {
    "collapsed": false,
    "ExecuteTime": {
     "start_time": "2023-04-02T22:34:16.536786Z",
     "end_time": "2023-04-02T22:34:16.538901Z"
    }
   }
  },
  {
   "cell_type": "code",
   "execution_count": 179,
   "outputs": [
    {
     "name": "stdout",
     "output_type": "stream",
     "text": [
      "Total Vocabs in 256 Sentence Length = 7637593\n"
     ]
    }
   ],
   "source": [
    "print(f\"Total Vocabs in 256 Sentence Length = {vocab_256_df['count'].sum()}\")"
   ],
   "metadata": {
    "collapsed": false,
    "ExecuteTime": {
     "start_time": "2023-04-02T22:34:16.540083Z",
     "end_time": "2023-04-02T22:34:16.549159Z"
    }
   }
  },
  {
   "cell_type": "code",
   "execution_count": 180,
   "outputs": [
    {
     "name": "stdout",
     "output_type": "stream",
     "text": [
      "Total Vocabs in 512 Sentence Length = 7644128\n"
     ]
    }
   ],
   "source": [
    "print(f\"Total Vocabs in 512 Sentence Length = {vocab_512_df['count'].sum()}\")"
   ],
   "metadata": {
    "collapsed": false,
    "ExecuteTime": {
     "start_time": "2023-04-02T22:34:16.549532Z",
     "end_time": "2023-04-02T22:34:16.570450Z"
    }
   }
  },
  {
   "cell_type": "code",
   "execution_count": 181,
   "outputs": [
    {
     "name": "stdout",
     "output_type": "stream",
     "text": [
      "Seed = cardiovascular, Occurence: 0\n",
      "Seed = diseases, Occurence: 0\n",
      "Seed = chronic, Occurence: 0\n",
      "Seed = kidney, Occurence: 0\n",
      "Seed = disease, Occurence: 56\n",
      "Seed = respiratory, Occurence: 0\n",
      "Seed = diabetes, Occurence: 0\n",
      "Seed = mellitus, Occurence: 0\n",
      "Seed = digestive, Occurence: 0\n",
      "Seed = hiv/aids, Occurence: 0\n",
      "Seed = hepatitis, Occurence: 0\n",
      "Seed = a/b/c/e, Occurence: 0\n",
      "Seed = mental, Occurence: 0\n",
      "Seed = disorders, Occurence: 0\n",
      "Seed = musculoskeletal, Occurence: 0\n",
      "Seed = neoplasms, Occurence: 0\n",
      "Seed = (cancer), Occurence: 0\n",
      "Seed = neurological, Occurence: 0\n",
      "Seed = hiv, Occurence: 82\n"
     ]
    }
   ],
   "source": [
    "check_vocab_seeds(vocab_128_df)"
   ],
   "metadata": {
    "collapsed": false,
    "ExecuteTime": {
     "start_time": "2023-04-02T22:34:16.607938Z",
     "end_time": "2023-04-02T22:34:16.659840Z"
    }
   }
  },
  {
   "cell_type": "code",
   "execution_count": 182,
   "outputs": [
    {
     "name": "stdout",
     "output_type": "stream",
     "text": [
      "Seed = cardiovascular, Occurence: 0\n",
      "Seed = diseases, Occurence: 0\n",
      "Seed = chronic, Occurence: 0\n",
      "Seed = kidney, Occurence: 0\n",
      "Seed = disease, Occurence: 55\n",
      "Seed = respiratory, Occurence: 0\n",
      "Seed = diabetes, Occurence: 0\n",
      "Seed = mellitus, Occurence: 0\n",
      "Seed = digestive, Occurence: 0\n",
      "Seed = hiv/aids, Occurence: 0\n",
      "Seed = hepatitis, Occurence: 0\n",
      "Seed = a/b/c/e, Occurence: 0\n",
      "Seed = mental, Occurence: 0\n",
      "Seed = disorders, Occurence: 0\n",
      "Seed = musculoskeletal, Occurence: 0\n",
      "Seed = neoplasms, Occurence: 0\n",
      "Seed = (cancer), Occurence: 0\n",
      "Seed = neurological, Occurence: 0\n",
      "Seed = hiv, Occurence: 82\n"
     ]
    }
   ],
   "source": [
    "check_vocab_seeds(vocab_256_df)"
   ],
   "metadata": {
    "collapsed": false,
    "ExecuteTime": {
     "start_time": "2023-04-02T22:34:16.657963Z",
     "end_time": "2023-04-02T22:34:16.708137Z"
    }
   }
  },
  {
   "cell_type": "code",
   "execution_count": 183,
   "outputs": [
    {
     "name": "stdout",
     "output_type": "stream",
     "text": [
      "Seed = cardiovascular, Occurence: 0\n",
      "Seed = diseases, Occurence: 0\n",
      "Seed = chronic, Occurence: 0\n",
      "Seed = kidney, Occurence: 0\n",
      "Seed = disease, Occurence: 55\n",
      "Seed = respiratory, Occurence: 0\n",
      "Seed = diabetes, Occurence: 0\n",
      "Seed = mellitus, Occurence: 0\n",
      "Seed = digestive, Occurence: 0\n",
      "Seed = hiv/aids, Occurence: 0\n",
      "Seed = hepatitis, Occurence: 0\n",
      "Seed = a/b/c/e, Occurence: 0\n",
      "Seed = mental, Occurence: 0\n",
      "Seed = disorders, Occurence: 0\n",
      "Seed = musculoskeletal, Occurence: 0\n",
      "Seed = neoplasms, Occurence: 0\n",
      "Seed = (cancer), Occurence: 0\n",
      "Seed = neurological, Occurence: 0\n",
      "Seed = hiv, Occurence: 80\n"
     ]
    }
   ],
   "source": [
    "check_vocab_seeds(vocab_512_df)"
   ],
   "metadata": {
    "collapsed": false,
    "ExecuteTime": {
     "start_time": "2023-04-02T22:34:16.708012Z",
     "end_time": "2023-04-02T22:34:16.756581Z"
    }
   }
  }
 ],
 "metadata": {
  "kernelspec": {
   "display_name": "Python 3",
   "language": "python",
   "name": "python3"
  },
  "language_info": {
   "codemirror_mode": {
    "name": "ipython",
    "version": 2
   },
   "file_extension": ".py",
   "mimetype": "text/x-python",
   "name": "python",
   "nbconvert_exporter": "python",
   "pygments_lexer": "ipython2",
   "version": "2.7.6"
  }
 },
 "nbformat": 4,
 "nbformat_minor": 0
}
