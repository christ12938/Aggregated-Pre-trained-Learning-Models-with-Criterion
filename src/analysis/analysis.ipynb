{
 "cells": [
  {
   "cell_type": "code",
   "execution_count": 1,
   "outputs": [],
   "source": [
    "import pandas as pd\n",
    "import numpy as np\n",
    "import re"
   ],
   "metadata": {
    "collapsed": false,
    "ExecuteTime": {
     "end_time": "2023-07-01T10:29:12.991881100Z",
     "start_time": "2023-07-01T10:29:12.729597400Z"
    }
   }
  },
  {
   "cell_type": "code",
   "execution_count": 2,
   "outputs": [],
   "source": [
    "def get_seeds():\n",
    "    seeds = [\n",
    "        'cardiovascular diseases',\n",
    "        'chronic kidney disease',\n",
    "        'chronic respiratory diseases',\n",
    "        'diabetes mellitus',\n",
    "        'digestive diseases',\n",
    "        'hiv/aids',\n",
    "        'hepatitis a/b/c/e',\n",
    "        'mental disorders',\n",
    "        'musculoskeletal disorders',\n",
    "        'neoplasms (cancer)',\n",
    "        'neurological disorders',\n",
    "        'hiv',\n",
    "        'disease'\n",
    "    ]\n",
    "    return seeds"
   ],
   "metadata": {
    "collapsed": false,
    "ExecuteTime": {
     "end_time": "2023-07-01T10:29:13.006438200Z",
     "start_time": "2023-07-01T10:29:12.992880500Z"
    }
   }
  },
  {
   "cell_type": "code",
   "execution_count": 3,
   "outputs": [],
   "source": [
    "vocab_128_path = \"/home/chris/COMP4951-Thesis-Out-of-Vocab-Seed-Mining/src/data/scidocs_data/scidocs_vocab_128_no_punc_no_nsp.csv\"\n",
    "vocab_256_path = \"/home/chris/COMP4951-Thesis-Out-of-Vocab-Seed-Mining/src/data/scidocs_data/scidocs_vocab_256_no_punc_no_nsp.csv\"\n",
    "vocab_512_path = \"/home/chris/COMP4951-Thesis-Out-of-Vocab-Seed-Mining/src/data/scidocs_data/scidocs_vocab_512_no_punc_no_nsp.csv\""
   ],
   "metadata": {
    "collapsed": false,
    "ExecuteTime": {
     "end_time": "2023-07-01T10:29:13.032999200Z",
     "start_time": "2023-07-01T10:29:13.006438200Z"
    }
   }
  },
  {
   "cell_type": "code",
   "execution_count": 4,
   "outputs": [],
   "source": [
    "def check_vocab_seeds(vocabs_df):\n",
    "    vocabs = np.array(vocabs_df['vocabs'])\n",
    "    seeds = get_seeds()\n",
    "    final_seeds = []\n",
    "    for seed in seeds:\n",
    "        final_seeds.extend(re.split('[ ]', seed))\n",
    "    vocab_seed_details = {key: 0 for key in final_seeds}\n",
    "    for vocab in vocabs:\n",
    "        for seed in seeds:\n",
    "            if seed in vocab:\n",
    "                vocab_seed_details[seed] += 1\n",
    "\n",
    "    for key, val in vocab_seed_details.items():\n",
    "        print(f\"Seed = {key}, Occurence: {val}\")"
   ],
   "metadata": {
    "collapsed": false,
    "ExecuteTime": {
     "end_time": "2023-07-01T10:29:13.037504Z",
     "start_time": "2023-07-01T10:29:13.023632400Z"
    }
   }
  },
  {
   "cell_type": "code",
   "execution_count": 5,
   "outputs": [],
   "source": [
    "vocab_128_df = pd.read_csv(vocab_128_path)\n",
    "vocab_256_df = pd.read_csv(vocab_256_path)\n",
    "vocab_512_df = pd.read_csv(vocab_512_path)"
   ],
   "metadata": {
    "collapsed": false,
    "ExecuteTime": {
     "end_time": "2023-07-01T10:29:13.306546500Z",
     "start_time": "2023-07-01T10:29:13.038504300Z"
    }
   }
  },
  {
   "cell_type": "code",
   "execution_count": 6,
   "outputs": [
    {
     "data": {
      "text/plain": "                 vocabs  count\n0                   UNK  22758\n1            randomized  19107\n2               placebo  11626\n3         convolutional  10168\n4          segmentation   9566\n...                 ...    ...\n202341            epuap      1\n202342     thickrestart      1\n202343  spectrumslicing      1\n202344         multicon      1\n202345     multicontact      1\n\n[202346 rows x 2 columns]",
      "text/html": "<div>\n<style scoped>\n    .dataframe tbody tr th:only-of-type {\n        vertical-align: middle;\n    }\n\n    .dataframe tbody tr th {\n        vertical-align: top;\n    }\n\n    .dataframe thead th {\n        text-align: right;\n    }\n</style>\n<table border=\"1\" class=\"dataframe\">\n  <thead>\n    <tr style=\"text-align: right;\">\n      <th></th>\n      <th>vocabs</th>\n      <th>count</th>\n    </tr>\n  </thead>\n  <tbody>\n    <tr>\n      <th>0</th>\n      <td>UNK</td>\n      <td>22758</td>\n    </tr>\n    <tr>\n      <th>1</th>\n      <td>randomized</td>\n      <td>19107</td>\n    </tr>\n    <tr>\n      <th>2</th>\n      <td>placebo</td>\n      <td>11626</td>\n    </tr>\n    <tr>\n      <th>3</th>\n      <td>convolutional</td>\n      <td>10168</td>\n    </tr>\n    <tr>\n      <th>4</th>\n      <td>segmentation</td>\n      <td>9566</td>\n    </tr>\n    <tr>\n      <th>...</th>\n      <td>...</td>\n      <td>...</td>\n    </tr>\n    <tr>\n      <th>202341</th>\n      <td>epuap</td>\n      <td>1</td>\n    </tr>\n    <tr>\n      <th>202342</th>\n      <td>thickrestart</td>\n      <td>1</td>\n    </tr>\n    <tr>\n      <th>202343</th>\n      <td>spectrumslicing</td>\n      <td>1</td>\n    </tr>\n    <tr>\n      <th>202344</th>\n      <td>multicon</td>\n      <td>1</td>\n    </tr>\n    <tr>\n      <th>202345</th>\n      <td>multicontact</td>\n      <td>1</td>\n    </tr>\n  </tbody>\n</table>\n<p>202346 rows × 2 columns</p>\n</div>"
     },
     "execution_count": 6,
     "metadata": {},
     "output_type": "execute_result"
    }
   ],
   "source": [
    "vocab_128_df"
   ],
   "metadata": {
    "collapsed": false,
    "ExecuteTime": {
     "end_time": "2023-07-01T10:29:13.322250300Z",
     "start_time": "2023-07-01T10:29:13.307741400Z"
    }
   }
  },
  {
   "cell_type": "code",
   "execution_count": 7,
   "outputs": [
    {
     "data": {
      "text/plain": "                 vocabs  count\n0                   UNK  27756\n1            randomized  21530\n2               placebo  15802\n3               dataset  15465\n4          segmentation  14151\n...                 ...    ...\n252634       alessandra      1\n252635            voena      1\n252636          wolfers      1\n252637     thickrestart      1\n252638  spectrumslicing      1\n\n[252639 rows x 2 columns]",
      "text/html": "<div>\n<style scoped>\n    .dataframe tbody tr th:only-of-type {\n        vertical-align: middle;\n    }\n\n    .dataframe tbody tr th {\n        vertical-align: top;\n    }\n\n    .dataframe thead th {\n        text-align: right;\n    }\n</style>\n<table border=\"1\" class=\"dataframe\">\n  <thead>\n    <tr style=\"text-align: right;\">\n      <th></th>\n      <th>vocabs</th>\n      <th>count</th>\n    </tr>\n  </thead>\n  <tbody>\n    <tr>\n      <th>0</th>\n      <td>UNK</td>\n      <td>27756</td>\n    </tr>\n    <tr>\n      <th>1</th>\n      <td>randomized</td>\n      <td>21530</td>\n    </tr>\n    <tr>\n      <th>2</th>\n      <td>placebo</td>\n      <td>15802</td>\n    </tr>\n    <tr>\n      <th>3</th>\n      <td>dataset</td>\n      <td>15465</td>\n    </tr>\n    <tr>\n      <th>4</th>\n      <td>segmentation</td>\n      <td>14151</td>\n    </tr>\n    <tr>\n      <th>...</th>\n      <td>...</td>\n      <td>...</td>\n    </tr>\n    <tr>\n      <th>252634</th>\n      <td>alessandra</td>\n      <td>1</td>\n    </tr>\n    <tr>\n      <th>252635</th>\n      <td>voena</td>\n      <td>1</td>\n    </tr>\n    <tr>\n      <th>252636</th>\n      <td>wolfers</td>\n      <td>1</td>\n    </tr>\n    <tr>\n      <th>252637</th>\n      <td>thickrestart</td>\n      <td>1</td>\n    </tr>\n    <tr>\n      <th>252638</th>\n      <td>spectrumslicing</td>\n      <td>1</td>\n    </tr>\n  </tbody>\n</table>\n<p>252639 rows × 2 columns</p>\n</div>"
     },
     "execution_count": 7,
     "metadata": {},
     "output_type": "execute_result"
    }
   ],
   "source": [
    "vocab_256_df"
   ],
   "metadata": {
    "collapsed": false,
    "ExecuteTime": {
     "end_time": "2023-07-01T10:29:13.347949900Z",
     "start_time": "2023-07-01T10:29:13.323250300Z"
    }
   }
  },
  {
   "cell_type": "code",
   "execution_count": 8,
   "outputs": [
    {
     "data": {
      "text/plain": "                 vocabs  count\n0                   UNK  34323\n1            randomized  22284\n2               dataset  19601\n3              datasets  18426\n4               placebo  18116\n...                 ...    ...\n282604            voena      1\n282605          wolfers      1\n282606            igert      1\n282607     thickrestart      1\n282608  spectrumslicing      1\n\n[282609 rows x 2 columns]",
      "text/html": "<div>\n<style scoped>\n    .dataframe tbody tr th:only-of-type {\n        vertical-align: middle;\n    }\n\n    .dataframe tbody tr th {\n        vertical-align: top;\n    }\n\n    .dataframe thead th {\n        text-align: right;\n    }\n</style>\n<table border=\"1\" class=\"dataframe\">\n  <thead>\n    <tr style=\"text-align: right;\">\n      <th></th>\n      <th>vocabs</th>\n      <th>count</th>\n    </tr>\n  </thead>\n  <tbody>\n    <tr>\n      <th>0</th>\n      <td>UNK</td>\n      <td>34323</td>\n    </tr>\n    <tr>\n      <th>1</th>\n      <td>randomized</td>\n      <td>22284</td>\n    </tr>\n    <tr>\n      <th>2</th>\n      <td>dataset</td>\n      <td>19601</td>\n    </tr>\n    <tr>\n      <th>3</th>\n      <td>datasets</td>\n      <td>18426</td>\n    </tr>\n    <tr>\n      <th>4</th>\n      <td>placebo</td>\n      <td>18116</td>\n    </tr>\n    <tr>\n      <th>...</th>\n      <td>...</td>\n      <td>...</td>\n    </tr>\n    <tr>\n      <th>282604</th>\n      <td>voena</td>\n      <td>1</td>\n    </tr>\n    <tr>\n      <th>282605</th>\n      <td>wolfers</td>\n      <td>1</td>\n    </tr>\n    <tr>\n      <th>282606</th>\n      <td>igert</td>\n      <td>1</td>\n    </tr>\n    <tr>\n      <th>282607</th>\n      <td>thickrestart</td>\n      <td>1</td>\n    </tr>\n    <tr>\n      <th>282608</th>\n      <td>spectrumslicing</td>\n      <td>1</td>\n    </tr>\n  </tbody>\n</table>\n<p>282609 rows × 2 columns</p>\n</div>"
     },
     "execution_count": 8,
     "metadata": {},
     "output_type": "execute_result"
    }
   ],
   "source": [
    "vocab_512_df"
   ],
   "metadata": {
    "collapsed": false,
    "ExecuteTime": {
     "end_time": "2023-07-01T10:29:13.421171200Z",
     "start_time": "2023-07-01T10:29:13.338444400Z"
    }
   }
  },
  {
   "cell_type": "code",
   "execution_count": 9,
   "outputs": [
    {
     "name": "stdout",
     "output_type": "stream",
     "text": [
      "Total Vocabs in 128 Sentence Length = 3570394\n"
     ]
    }
   ],
   "source": [
    "print(f\"Total Vocabs in 128 Sentence Length = {vocab_128_df['count'].sum()}\")"
   ],
   "metadata": {
    "collapsed": false,
    "ExecuteTime": {
     "end_time": "2023-07-01T10:29:13.425171400Z",
     "start_time": "2023-07-01T10:29:13.354950600Z"
    }
   }
  },
  {
   "cell_type": "code",
   "execution_count": 10,
   "outputs": [
    {
     "name": "stdout",
     "output_type": "stream",
     "text": [
      "Total Vocabs in 256 Sentence Length = 5249012\n"
     ]
    }
   ],
   "source": [
    "print(f\"Total Vocabs in 256 Sentence Length = {vocab_256_df['count'].sum()}\")"
   ],
   "metadata": {
    "collapsed": false,
    "ExecuteTime": {
     "end_time": "2023-07-01T10:29:13.466817100Z",
     "start_time": "2023-07-01T10:29:13.370780800Z"
    }
   }
  },
  {
   "cell_type": "code",
   "execution_count": 11,
   "outputs": [
    {
     "name": "stdout",
     "output_type": "stream",
     "text": [
      "Total Vocabs in 512 Sentence Length = 6218128\n"
     ]
    }
   ],
   "source": [
    "print(f\"Total Vocabs in 512 Sentence Length = {vocab_512_df['count'].sum()}\")"
   ],
   "metadata": {
    "collapsed": false,
    "ExecuteTime": {
     "end_time": "2023-07-01T10:29:13.470324400Z",
     "start_time": "2023-07-01T10:29:13.385870600Z"
    }
   }
  },
  {
   "cell_type": "code",
   "execution_count": 12,
   "outputs": [
    {
     "name": "stdout",
     "output_type": "stream",
     "text": [
      "Seed = cardiovascular, Occurence: 0\n",
      "Seed = diseases, Occurence: 0\n",
      "Seed = chronic, Occurence: 0\n",
      "Seed = kidney, Occurence: 0\n",
      "Seed = disease, Occurence: 34\n",
      "Seed = respiratory, Occurence: 0\n",
      "Seed = diabetes, Occurence: 0\n",
      "Seed = mellitus, Occurence: 0\n",
      "Seed = digestive, Occurence: 0\n",
      "Seed = hiv/aids, Occurence: 0\n",
      "Seed = hepatitis, Occurence: 0\n",
      "Seed = a/b/c/e, Occurence: 0\n",
      "Seed = mental, Occurence: 0\n",
      "Seed = disorders, Occurence: 0\n",
      "Seed = musculoskeletal, Occurence: 0\n",
      "Seed = neoplasms, Occurence: 0\n",
      "Seed = (cancer), Occurence: 0\n",
      "Seed = neurological, Occurence: 0\n",
      "Seed = hiv, Occurence: 57\n"
     ]
    }
   ],
   "source": [
    "check_vocab_seeds(vocab_128_df)"
   ],
   "metadata": {
    "collapsed": false,
    "ExecuteTime": {
     "end_time": "2023-07-01T10:29:13.508009Z",
     "start_time": "2023-07-01T10:29:13.407663200Z"
    }
   }
  },
  {
   "cell_type": "code",
   "execution_count": 13,
   "outputs": [
    {
     "name": "stdout",
     "output_type": "stream",
     "text": [
      "Seed = cardiovascular, Occurence: 0\n",
      "Seed = diseases, Occurence: 0\n",
      "Seed = chronic, Occurence: 0\n",
      "Seed = kidney, Occurence: 0\n",
      "Seed = disease, Occurence: 41\n",
      "Seed = respiratory, Occurence: 0\n",
      "Seed = diabetes, Occurence: 0\n",
      "Seed = mellitus, Occurence: 0\n",
      "Seed = digestive, Occurence: 0\n",
      "Seed = hiv/aids, Occurence: 0\n",
      "Seed = hepatitis, Occurence: 0\n",
      "Seed = a/b/c/e, Occurence: 0\n",
      "Seed = mental, Occurence: 0\n",
      "Seed = disorders, Occurence: 0\n",
      "Seed = musculoskeletal, Occurence: 0\n",
      "Seed = neoplasms, Occurence: 0\n",
      "Seed = (cancer), Occurence: 0\n",
      "Seed = neurological, Occurence: 0\n",
      "Seed = hiv, Occurence: 68\n"
     ]
    }
   ],
   "source": [
    "check_vocab_seeds(vocab_256_df)"
   ],
   "metadata": {
    "collapsed": false,
    "ExecuteTime": {
     "end_time": "2023-07-01T10:29:13.580338100Z",
     "start_time": "2023-07-01T10:29:13.461818200Z"
    }
   }
  },
  {
   "cell_type": "code",
   "execution_count": 14,
   "outputs": [
    {
     "name": "stdout",
     "output_type": "stream",
     "text": [
      "Seed = cardiovascular, Occurence: 0\n",
      "Seed = diseases, Occurence: 0\n",
      "Seed = chronic, Occurence: 0\n",
      "Seed = kidney, Occurence: 0\n",
      "Seed = disease, Occurence: 48\n",
      "Seed = respiratory, Occurence: 0\n",
      "Seed = diabetes, Occurence: 0\n",
      "Seed = mellitus, Occurence: 0\n",
      "Seed = digestive, Occurence: 0\n",
      "Seed = hiv/aids, Occurence: 0\n",
      "Seed = hepatitis, Occurence: 0\n",
      "Seed = a/b/c/e, Occurence: 0\n",
      "Seed = mental, Occurence: 0\n",
      "Seed = disorders, Occurence: 0\n",
      "Seed = musculoskeletal, Occurence: 0\n",
      "Seed = neoplasms, Occurence: 0\n",
      "Seed = (cancer), Occurence: 0\n",
      "Seed = neurological, Occurence: 0\n",
      "Seed = hiv, Occurence: 77\n"
     ]
    }
   ],
   "source": [
    "check_vocab_seeds(vocab_512_df)"
   ],
   "metadata": {
    "collapsed": false,
    "ExecuteTime": {
     "end_time": "2023-07-01T10:29:13.633512200Z",
     "start_time": "2023-07-01T10:29:13.541785800Z"
    }
   }
  },
  {
   "cell_type": "code",
   "execution_count": 14,
   "outputs": [],
   "source": [],
   "metadata": {
    "collapsed": false,
    "ExecuteTime": {
     "end_time": "2023-07-01T10:29:13.657953400Z",
     "start_time": "2023-07-01T10:29:13.634513200Z"
    }
   }
  }
 ],
 "metadata": {
  "kernelspec": {
   "display_name": "Python 3",
   "language": "python",
   "name": "python3"
  },
  "language_info": {
   "codemirror_mode": {
    "name": "ipython",
    "version": 2
   },
   "file_extension": ".py",
   "mimetype": "text/x-python",
   "name": "python",
   "nbconvert_exporter": "python",
   "pygments_lexer": "ipython2",
   "version": "2.7.6"
  }
 },
 "nbformat": 4,
 "nbformat_minor": 0
}
