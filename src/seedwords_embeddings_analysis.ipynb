{
 "cells": [
  {
   "cell_type": "code",
   "execution_count": 19,
   "metadata": {
    "collapsed": true,
    "ExecuteTime": {
     "end_time": "2023-06-23T01:50:15.506593800Z",
     "start_time": "2023-06-23T01:50:15.491013500Z"
    }
   },
   "outputs": [],
   "source": [
    "import pandas as pd\n",
    "from embeddings import get_seed_word_embeddings"
   ]
  },
  {
   "cell_type": "code",
   "execution_count": 20,
   "outputs": [],
   "source": [
    "def get_seeds():\n",
    "    seeds = [\n",
    "        'cardiovascular diseases',\n",
    "        'chronic kidney disease',\n",
    "        'chronic respiratory diseases',\n",
    "        'diabetes mellitus',\n",
    "        'digestive diseases',\n",
    "        'hiv/aids',\n",
    "        'hepatitis a/b/c/e',\n",
    "        'mental disorders',\n",
    "        'musculoskeletal disorders',\n",
    "        'neoplasms (cancer)',\n",
    "        'neurological disorders',\n",
    "        'hiv',\n",
    "        'disease'\n",
    "    ]\n",
    "    return seeds"
   ],
   "metadata": {
    "collapsed": false,
    "ExecuteTime": {
     "end_time": "2023-06-23T01:50:15.522610600Z",
     "start_time": "2023-06-23T01:50:15.507594500Z"
    }
   }
  },
  {
   "cell_type": "code",
   "execution_count": 21,
   "outputs": [],
   "source": [
    "def create_seeds_info_table():\n",
    "    seeds = get_seeds()\n",
    "    seeds_embeddings = []\n",
    "    for seed in seeds:\n",
    "        seeds_embeddings.append(get_seed_word_embeddings(seed_word=seed, add_special_tokens=True).cpu().detach().numpy().flatten())\n",
    "    return pd.DataFrame({'seed_word': seeds, 'seed_embeddings': seeds_embeddings})"
   ],
   "metadata": {
    "collapsed": false,
    "ExecuteTime": {
     "end_time": "2023-06-23T01:50:15.536812700Z",
     "start_time": "2023-06-23T01:50:15.522610600Z"
    }
   }
  },
  {
   "cell_type": "code",
   "execution_count": 22,
   "outputs": [
    {
     "data": {
      "text/plain": "                       seed_word  \\\n0        cardiovascular diseases   \n1         chronic kidney disease   \n2   chronic respiratory diseases   \n3              diabetes mellitus   \n4             digestive diseases   \n5                       hiv/aids   \n6              hepatitis a/b/c/e   \n7               mental disorders   \n8      musculoskeletal disorders   \n9             neoplasms (cancer)   \n10        neurological disorders   \n11                           hiv   \n12                       disease   \n\n                                      seed_embeddings  \n0   [0.517692, 0.5323571, -0.44841608, -0.05717339...  \n1   [-0.08433671, 0.6341991, -0.36865267, -0.67142...  \n2   [0.024628937, 0.55951333, -0.6699457, -0.37396...  \n3   [-0.062809765, -0.33381042, 0.07737088, -0.458...  \n4   [-0.10238004, 0.72597575, -0.51428825, -0.3514...  \n5   [0.22327654, -0.06370661, -0.06935634, -0.1988...  \n6   [0.19552195, 0.16118325, 0.09832859, -0.612246...  \n7   [-0.14219496, 0.8293749, -0.47880903, -0.33652...  \n8   [-0.1975437, -0.02582786, -0.14464998, -0.3523...  \n9   [0.18354346, 0.0115598105, -0.08622912, -0.368...  \n10  [-0.3616871, 0.8013427, -0.29296294, -0.582720...  \n11  [-0.33305335, -0.35358843, -0.9137554, -0.1948...  \n12  [-0.48184487, -0.11940247, -0.5548612, -0.0425...  ",
      "text/html": "<div>\n<style scoped>\n    .dataframe tbody tr th:only-of-type {\n        vertical-align: middle;\n    }\n\n    .dataframe tbody tr th {\n        vertical-align: top;\n    }\n\n    .dataframe thead th {\n        text-align: right;\n    }\n</style>\n<table border=\"1\" class=\"dataframe\">\n  <thead>\n    <tr style=\"text-align: right;\">\n      <th></th>\n      <th>seed_word</th>\n      <th>seed_embeddings</th>\n    </tr>\n  </thead>\n  <tbody>\n    <tr>\n      <th>0</th>\n      <td>cardiovascular diseases</td>\n      <td>[0.517692, 0.5323571, -0.44841608, -0.05717339...</td>\n    </tr>\n    <tr>\n      <th>1</th>\n      <td>chronic kidney disease</td>\n      <td>[-0.08433671, 0.6341991, -0.36865267, -0.67142...</td>\n    </tr>\n    <tr>\n      <th>2</th>\n      <td>chronic respiratory diseases</td>\n      <td>[0.024628937, 0.55951333, -0.6699457, -0.37396...</td>\n    </tr>\n    <tr>\n      <th>3</th>\n      <td>diabetes mellitus</td>\n      <td>[-0.062809765, -0.33381042, 0.07737088, -0.458...</td>\n    </tr>\n    <tr>\n      <th>4</th>\n      <td>digestive diseases</td>\n      <td>[-0.10238004, 0.72597575, -0.51428825, -0.3514...</td>\n    </tr>\n    <tr>\n      <th>5</th>\n      <td>hiv/aids</td>\n      <td>[0.22327654, -0.06370661, -0.06935634, -0.1988...</td>\n    </tr>\n    <tr>\n      <th>6</th>\n      <td>hepatitis a/b/c/e</td>\n      <td>[0.19552195, 0.16118325, 0.09832859, -0.612246...</td>\n    </tr>\n    <tr>\n      <th>7</th>\n      <td>mental disorders</td>\n      <td>[-0.14219496, 0.8293749, -0.47880903, -0.33652...</td>\n    </tr>\n    <tr>\n      <th>8</th>\n      <td>musculoskeletal disorders</td>\n      <td>[-0.1975437, -0.02582786, -0.14464998, -0.3523...</td>\n    </tr>\n    <tr>\n      <th>9</th>\n      <td>neoplasms (cancer)</td>\n      <td>[0.18354346, 0.0115598105, -0.08622912, -0.368...</td>\n    </tr>\n    <tr>\n      <th>10</th>\n      <td>neurological disorders</td>\n      <td>[-0.3616871, 0.8013427, -0.29296294, -0.582720...</td>\n    </tr>\n    <tr>\n      <th>11</th>\n      <td>hiv</td>\n      <td>[-0.33305335, -0.35358843, -0.9137554, -0.1948...</td>\n    </tr>\n    <tr>\n      <th>12</th>\n      <td>disease</td>\n      <td>[-0.48184487, -0.11940247, -0.5548612, -0.0425...</td>\n    </tr>\n  </tbody>\n</table>\n</div>"
     },
     "execution_count": 22,
     "metadata": {},
     "output_type": "execute_result"
    }
   ],
   "source": [
    "create_seeds_info_table()"
   ],
   "metadata": {
    "collapsed": false,
    "ExecuteTime": {
     "end_time": "2023-06-23T01:50:15.893579400Z",
     "start_time": "2023-06-23T01:50:15.538812900Z"
    }
   }
  },
  {
   "cell_type": "markdown",
   "source": [],
   "metadata": {
    "collapsed": false
   }
  },
  {
   "cell_type": "markdown",
   "source": [],
   "metadata": {
    "collapsed": false
   }
  },
  {
   "cell_type": "code",
   "execution_count": 23,
   "outputs": [],
   "source": [
    "dataset_512_path = \"/home/chris/COMP4951-Thesis-Out-of-Vocab-Seed-Mining/src/data/scidocs_data/scidocs_dataset_512.csv\""
   ],
   "metadata": {
    "collapsed": false,
    "ExecuteTime": {
     "end_time": "2023-06-23T01:50:15.927844Z",
     "start_time": "2023-06-23T01:50:15.894581Z"
    }
   }
  },
  {
   "cell_type": "code",
   "execution_count": 24,
   "outputs": [],
   "source": [
    "dataset_512_df = pd.read_csv(dataset_512_path)"
   ],
   "metadata": {
    "collapsed": false,
    "ExecuteTime": {
     "end_time": "2023-06-23T01:50:21.422804900Z",
     "start_time": "2023-06-23T01:50:15.910769500Z"
    }
   }
  },
  {
   "cell_type": "code",
   "execution_count": 26,
   "outputs": [
    {
     "data": {
      "text/plain": "                                                sentence_1  \\\n0        numerous studies of e-commerce have emphasized...   \n1        information communication technology (ict) rev...   \n2        in this paper e-commerce practices in malaysia...   \n3        this paper provides a general review of challe...   \n4        and to understand the in-depth of e-commerce p...   \n...                                                    ...   \n2057769  to help understanding the landscape and abstra...   \n2057770  this paper proposes a new, more encompassing a...   \n2057771  the proposed multi-level taxonomy considers le...   \n2057772  following the proposed taxonomy, a comprehensi...   \n2057773                                   face recognition   \n\n                                                sentence_2  nsp  \n0        to improve the precision, we introduced the \"c...    0  \n1        in this paper e-commerce practices in malaysia...    1  \n2        firms with high level of human resources and i...    0  \n3        and to understand the in-depth of e-commerce p...    1  \n4        we present fingerpad, a nail-mounted device th...    0  \n...                                                    ...  ...  \n2057769  this paper proposes a new, more encompassing a...    1  \n2057770  hydrophobicity also increased with increasing ...    0  \n2057771  following the proposed taxonomy, a comprehensi...    1  \n2057772      dopaminergic contributions to vocal learning.    0  \n2057773  this paper presents the baseline survey result...    0  \n\n[2057774 rows x 3 columns]",
      "text/html": "<div>\n<style scoped>\n    .dataframe tbody tr th:only-of-type {\n        vertical-align: middle;\n    }\n\n    .dataframe tbody tr th {\n        vertical-align: top;\n    }\n\n    .dataframe thead th {\n        text-align: right;\n    }\n</style>\n<table border=\"1\" class=\"dataframe\">\n  <thead>\n    <tr style=\"text-align: right;\">\n      <th></th>\n      <th>sentence_1</th>\n      <th>sentence_2</th>\n      <th>nsp</th>\n    </tr>\n  </thead>\n  <tbody>\n    <tr>\n      <th>0</th>\n      <td>numerous studies of e-commerce have emphasized...</td>\n      <td>to improve the precision, we introduced the \"c...</td>\n      <td>0</td>\n    </tr>\n    <tr>\n      <th>1</th>\n      <td>information communication technology (ict) rev...</td>\n      <td>in this paper e-commerce practices in malaysia...</td>\n      <td>1</td>\n    </tr>\n    <tr>\n      <th>2</th>\n      <td>in this paper e-commerce practices in malaysia...</td>\n      <td>firms with high level of human resources and i...</td>\n      <td>0</td>\n    </tr>\n    <tr>\n      <th>3</th>\n      <td>this paper provides a general review of challe...</td>\n      <td>and to understand the in-depth of e-commerce p...</td>\n      <td>1</td>\n    </tr>\n    <tr>\n      <th>4</th>\n      <td>and to understand the in-depth of e-commerce p...</td>\n      <td>we present fingerpad, a nail-mounted device th...</td>\n      <td>0</td>\n    </tr>\n    <tr>\n      <th>...</th>\n      <td>...</td>\n      <td>...</td>\n      <td>...</td>\n    </tr>\n    <tr>\n      <th>2057769</th>\n      <td>to help understanding the landscape and abstra...</td>\n      <td>this paper proposes a new, more encompassing a...</td>\n      <td>1</td>\n    </tr>\n    <tr>\n      <th>2057770</th>\n      <td>this paper proposes a new, more encompassing a...</td>\n      <td>hydrophobicity also increased with increasing ...</td>\n      <td>0</td>\n    </tr>\n    <tr>\n      <th>2057771</th>\n      <td>the proposed multi-level taxonomy considers le...</td>\n      <td>following the proposed taxonomy, a comprehensi...</td>\n      <td>1</td>\n    </tr>\n    <tr>\n      <th>2057772</th>\n      <td>following the proposed taxonomy, a comprehensi...</td>\n      <td>dopaminergic contributions to vocal learning.</td>\n      <td>0</td>\n    </tr>\n    <tr>\n      <th>2057773</th>\n      <td>face recognition</td>\n      <td>this paper presents the baseline survey result...</td>\n      <td>0</td>\n    </tr>\n  </tbody>\n</table>\n<p>2057774 rows × 3 columns</p>\n</div>"
     },
     "execution_count": 26,
     "metadata": {},
     "output_type": "execute_result"
    }
   ],
   "source": [
    "dataset_512_df"
   ],
   "metadata": {
    "collapsed": false,
    "ExecuteTime": {
     "end_time": "2023-06-23T01:50:46.486120100Z",
     "start_time": "2023-06-23T01:50:46.479116200Z"
    }
   }
  },
  {
   "cell_type": "code",
   "execution_count": 25,
   "outputs": [],
   "source": [],
   "metadata": {
    "collapsed": false,
    "ExecuteTime": {
     "end_time": "2023-06-23T01:50:21.484024300Z",
     "start_time": "2023-06-23T01:50:21.437930600Z"
    }
   }
  }
 ],
 "metadata": {
  "kernelspec": {
   "display_name": "Python 3",
   "language": "python",
   "name": "python3"
  },
  "language_info": {
   "codemirror_mode": {
    "name": "ipython",
    "version": 2
   },
   "file_extension": ".py",
   "mimetype": "text/x-python",
   "name": "python",
   "nbconvert_exporter": "python",
   "pygments_lexer": "ipython2",
   "version": "2.7.6"
  }
 },
 "nbformat": 4,
 "nbformat_minor": 0
}
