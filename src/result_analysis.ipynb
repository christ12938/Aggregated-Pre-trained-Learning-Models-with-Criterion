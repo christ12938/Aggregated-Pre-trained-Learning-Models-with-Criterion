{
 "cells": [
  {
   "cell_type": "code",
   "execution_count": 2,
   "metadata": {
    "collapsed": true,
    "ExecuteTime": {
     "end_time": "2023-08-06T15:07:16.416242500Z",
     "start_time": "2023-08-06T15:07:16.125545300Z"
    }
   },
   "outputs": [],
   "source": [
    "import pandas as pd"
   ]
  },
  {
   "cell_type": "code",
   "execution_count": 3,
   "outputs": [],
   "source": [
    "bert_base_shortest_result_path = \"/home/chris/COMP4951-Thesis-Out-of-Vocab-Seed-Mining/src/data/new_result_data/test_scidocs_bert_base_shortest_distance_ranked_trim.pkl\"\n",
    "scibert_shortest_result_path = \"/home/chris/COMP4951-Thesis-Out-of-Vocab-Seed-Mining/src/data/new_result_data/test_scidocs_scibert_shortest_distance_ranked_trim.pkl\"\n",
    "#legalbert_shortest_result_path = \"/home/chris/COMP4951-Thesis-Out-of-Vocab-Seed-Mining/src/data/result_data/seetopic_scidocs_legalbert_shortest_distance_ranked.pkl\"\n",
    "#combined_result_path = \"/home/chris/COMP4951-Thesis-Out-of-Vocab-Seed-Mining/src/data/result_data/seetopic_scidocs_combined_shortest_distance_ranked.pkl\"\n",
    "#min_max_normalized_combined_result_path = \"/home/chris/COMP4951-Thesis-Out-of-Vocab-Seed-Mining/src/data/result_data/seetopic_scidocs_min_max_normalized_combined_shortest_distance_ranked.pkl\"\n",
    "#z_score_normalized_combined_result_path = \"/home/chris/COMP4951-Thesis-Out-of-Vocab-Seed-Mining/src/data/result_data/seetopic_scidocs_z_score_normalized_combined_shortest_distance_ranked.pkl\"\n",
    "\n",
    "bert_base_cosine_result_path = \"/home/chris/COMP4951-Thesis-Out-of-Vocab-Seed-Mining/src/data/new_result_data/test_scidocs_bert_base_cosine_shortest_distance_ranked_trim.pkl\"\n",
    "scibert_cosine_result_path = \"/home/chris/COMP4951-Thesis-Out-of-Vocab-Seed-Mining/src/data/new_result_data/test_scidocs_scibert_cosine_shortest_distance_ranked_trim.pkl\"\n",
    "#legalbert_cosine_result_path = \"/home/chris/COMP4951-Thesis-Out-of-Vocab-Seed-Mining/src/data/result_data/seetopic_scidocs_legalbert_cosine_shortest_distance_ranked.pkl\"\n",
    "#cosine_combined_result_path = \"/home/chris/COMP4951-Thesis-Out-of-Vocab-Seed-Mining/src/data/result_data/seetopic_scidocs_cosine_combined_shortest_distance_ranked.pkl\"\n",
    "#cosine_min_max_normalized_combined_result_path = \"/home/chris/COMP4951-Thesis-Out-of-Vocab-Seed-Mining/src/data/result_data/seetopic_scidocs_cosine_min_max_normalized_combined_shortest_distance_ranked.pkl\"\n",
    "#cosine_z_score_normalized_combined_result_path = \"/home/chris/COMP4951-Thesis-Out-of-Vocab-Seed-Mining/src/data/result_data/seetopic_scidocs_cosine_z_score_normalized_combined_shortest_distance_ranked.pkl\"\n",
    "\n",
    "#combined_pmi_npmi_result_save_path = \"/home/chris/COMP4951-Thesis-Out-of-Vocab-Seed-Mining/src/data/result_data/seetopic_combined_pmi_npmi_ranked.pkl\"\n",
    "#cosine_combined_pmi_npmi_result_save_path = \"/home/chris/COMP4951-Thesis-Out-of-Vocab-Seed-Mining/src/data/result_data/seetopic_cosine_combined_pmi_npmi_ranked.pkl\""
   ],
   "metadata": {
    "collapsed": false,
    "ExecuteTime": {
     "end_time": "2023-08-06T15:07:16.429747800Z",
     "start_time": "2023-08-06T15:07:16.417242100Z"
    }
   }
  },
  {
   "cell_type": "code",
   "execution_count": 4,
   "outputs": [
    {
     "ename": "FileNotFoundError",
     "evalue": "[Errno 2] No such file or directory: '/home/chris/COMP4951-Thesis-Out-of-Vocab-Seed-Mining/src/data/new_result_data/test_scidocs_bert_base_shortest_distance_ranked_trim.pkl'",
     "output_type": "error",
     "traceback": [
      "\u001B[1;31m---------------------------------------------------------------------------\u001B[0m",
      "\u001B[1;31mFileNotFoundError\u001B[0m                         Traceback (most recent call last)",
      "Cell \u001B[1;32mIn[4], line 1\u001B[0m\n\u001B[1;32m----> 1\u001B[0m bert_base_shortest_distance_df \u001B[38;5;241m=\u001B[39m \u001B[43mpd\u001B[49m\u001B[38;5;241;43m.\u001B[39;49m\u001B[43mread_pickle\u001B[49m\u001B[43m(\u001B[49m\u001B[43mbert_base_shortest_result_path\u001B[49m\u001B[43m)\u001B[49m\n\u001B[0;32m      2\u001B[0m scibert_shortest_distance_df \u001B[38;5;241m=\u001B[39m pd\u001B[38;5;241m.\u001B[39mread_pickle(scibert_shortest_result_path)\n\u001B[0;32m      3\u001B[0m \u001B[38;5;66;03m#legalbert_shortest_distance_df = pd.read_pickle(legalbert_shortest_result_path)\u001B[39;00m\n\u001B[0;32m      4\u001B[0m \u001B[38;5;66;03m#combined_shortest_distance_df = pd.read_pickle(combined_result_path)\u001B[39;00m\n\u001B[0;32m      5\u001B[0m \u001B[38;5;66;03m#min_max_normalized_combined_df = pd.read_pickle(min_max_normalized_combined_result_path)\u001B[39;00m\n\u001B[0;32m      6\u001B[0m \u001B[38;5;66;03m#z_score_normalized_combined_df = pd.read_pickle(z_score_normalized_combined_result_path)\u001B[39;00m\n",
      "File \u001B[1;32m~\\miniconda3\\envs\\bert_test\\lib\\site-packages\\pandas\\io\\pickle.py:190\u001B[0m, in \u001B[0;36mread_pickle\u001B[1;34m(filepath_or_buffer, compression, storage_options)\u001B[0m\n\u001B[0;32m    124\u001B[0m \u001B[38;5;250m\u001B[39m\u001B[38;5;124;03m\"\"\"\u001B[39;00m\n\u001B[0;32m    125\u001B[0m \u001B[38;5;124;03mLoad pickled pandas object (or any object) from file.\u001B[39;00m\n\u001B[0;32m    126\u001B[0m \n\u001B[1;32m   (...)\u001B[0m\n\u001B[0;32m    187\u001B[0m \u001B[38;5;124;03m4    4    9\u001B[39;00m\n\u001B[0;32m    188\u001B[0m \u001B[38;5;124;03m\"\"\"\u001B[39;00m\n\u001B[0;32m    189\u001B[0m excs_to_catch \u001B[38;5;241m=\u001B[39m (\u001B[38;5;167;01mAttributeError\u001B[39;00m, \u001B[38;5;167;01mImportError\u001B[39;00m, \u001B[38;5;167;01mModuleNotFoundError\u001B[39;00m, \u001B[38;5;167;01mTypeError\u001B[39;00m)\n\u001B[1;32m--> 190\u001B[0m \u001B[38;5;28;01mwith\u001B[39;00m \u001B[43mget_handle\u001B[49m\u001B[43m(\u001B[49m\n\u001B[0;32m    191\u001B[0m \u001B[43m    \u001B[49m\u001B[43mfilepath_or_buffer\u001B[49m\u001B[43m,\u001B[49m\n\u001B[0;32m    192\u001B[0m \u001B[43m    \u001B[49m\u001B[38;5;124;43m\"\u001B[39;49m\u001B[38;5;124;43mrb\u001B[39;49m\u001B[38;5;124;43m\"\u001B[39;49m\u001B[43m,\u001B[49m\n\u001B[0;32m    193\u001B[0m \u001B[43m    \u001B[49m\u001B[43mcompression\u001B[49m\u001B[38;5;241;43m=\u001B[39;49m\u001B[43mcompression\u001B[49m\u001B[43m,\u001B[49m\n\u001B[0;32m    194\u001B[0m \u001B[43m    \u001B[49m\u001B[43mis_text\u001B[49m\u001B[38;5;241;43m=\u001B[39;49m\u001B[38;5;28;43;01mFalse\u001B[39;49;00m\u001B[43m,\u001B[49m\n\u001B[0;32m    195\u001B[0m \u001B[43m    \u001B[49m\u001B[43mstorage_options\u001B[49m\u001B[38;5;241;43m=\u001B[39;49m\u001B[43mstorage_options\u001B[49m\u001B[43m,\u001B[49m\n\u001B[0;32m    196\u001B[0m \u001B[43m\u001B[49m\u001B[43m)\u001B[49m \u001B[38;5;28;01mas\u001B[39;00m handles:\n\u001B[0;32m    197\u001B[0m \n\u001B[0;32m    198\u001B[0m     \u001B[38;5;66;03m# 1) try standard library Pickle\u001B[39;00m\n\u001B[0;32m    199\u001B[0m     \u001B[38;5;66;03m# 2) try pickle_compat (older pandas version) to handle subclass changes\u001B[39;00m\n\u001B[0;32m    200\u001B[0m     \u001B[38;5;66;03m# 3) try pickle_compat with latin-1 encoding upon a UnicodeDecodeError\u001B[39;00m\n\u001B[0;32m    202\u001B[0m     \u001B[38;5;28;01mtry\u001B[39;00m:\n\u001B[0;32m    203\u001B[0m         \u001B[38;5;66;03m# TypeError for Cython complaints about object.__new__ vs Tick.__new__\u001B[39;00m\n\u001B[0;32m    204\u001B[0m         \u001B[38;5;28;01mtry\u001B[39;00m:\n",
      "File \u001B[1;32m~\\miniconda3\\envs\\bert_test\\lib\\site-packages\\pandas\\io\\common.py:865\u001B[0m, in \u001B[0;36mget_handle\u001B[1;34m(path_or_buf, mode, encoding, compression, memory_map, is_text, errors, storage_options)\u001B[0m\n\u001B[0;32m    856\u001B[0m         handle \u001B[38;5;241m=\u001B[39m \u001B[38;5;28mopen\u001B[39m(\n\u001B[0;32m    857\u001B[0m             handle,\n\u001B[0;32m    858\u001B[0m             ioargs\u001B[38;5;241m.\u001B[39mmode,\n\u001B[1;32m   (...)\u001B[0m\n\u001B[0;32m    861\u001B[0m             newline\u001B[38;5;241m=\u001B[39m\u001B[38;5;124m\"\u001B[39m\u001B[38;5;124m\"\u001B[39m,\n\u001B[0;32m    862\u001B[0m         )\n\u001B[0;32m    863\u001B[0m     \u001B[38;5;28;01melse\u001B[39;00m:\n\u001B[0;32m    864\u001B[0m         \u001B[38;5;66;03m# Binary mode\u001B[39;00m\n\u001B[1;32m--> 865\u001B[0m         handle \u001B[38;5;241m=\u001B[39m \u001B[38;5;28;43mopen\u001B[39;49m\u001B[43m(\u001B[49m\u001B[43mhandle\u001B[49m\u001B[43m,\u001B[49m\u001B[43m \u001B[49m\u001B[43mioargs\u001B[49m\u001B[38;5;241;43m.\u001B[39;49m\u001B[43mmode\u001B[49m\u001B[43m)\u001B[49m\n\u001B[0;32m    866\u001B[0m     handles\u001B[38;5;241m.\u001B[39mappend(handle)\n\u001B[0;32m    868\u001B[0m \u001B[38;5;66;03m# Convert BytesIO or file objects passed with an encoding\u001B[39;00m\n",
      "\u001B[1;31mFileNotFoundError\u001B[0m: [Errno 2] No such file or directory: '/home/chris/COMP4951-Thesis-Out-of-Vocab-Seed-Mining/src/data/new_result_data/test_scidocs_bert_base_shortest_distance_ranked_trim.pkl'"
     ]
    }
   ],
   "source": [
    "bert_base_shortest_distance_df = pd.read_pickle(bert_base_shortest_result_path)\n",
    "scibert_shortest_distance_df = pd.read_pickle(scibert_shortest_result_path)\n",
    "#legalbert_shortest_distance_df = pd.read_pickle(legalbert_shortest_result_path)\n",
    "#combined_shortest_distance_df = pd.read_pickle(combined_result_path)\n",
    "#min_max_normalized_combined_df = pd.read_pickle(min_max_normalized_combined_result_path)\n",
    "#z_score_normalized_combined_df = pd.read_pickle(z_score_normalized_combined_result_path)\n",
    "\n",
    "bert_base_cosine_shortest_distance_df = pd.read_pickle(bert_base_cosine_result_path)\n",
    "scibert_cosine_shortest_distance_df = pd.read_pickle(scibert_cosine_result_path)\n",
    "#legalbert_cosine_shortest_distance_df = pd.read_pickle(legalbert_cosine_result_path)\n",
    "#cosine_combined_shortest_distance_df = pd.read_pickle(cosine_combined_result_path)\n",
    "#cosine_min_max_normalized_combined_df = pd.read_pickle(cosine_min_max_normalized_combined_result_path)\n",
    "#cosine_z_score_normalized_combined_df = pd.read_pickle(cosine_z_score_normalized_combined_result_path)\n",
    "\n",
    "#max_npmi_df = pd.read_pickle(combined_pmi_npmi_result_save_path)\n",
    "#cosine_max_npmi_df = pd.read_pickle(cosine_combined_pmi_npmi_result_save_path)"
   ],
   "metadata": {
    "collapsed": false,
    "ExecuteTime": {
     "end_time": "2023-08-06T15:07:16.867892Z",
     "start_time": "2023-08-06T15:07:16.431748600Z"
    }
   }
  },
  {
   "cell_type": "code",
   "execution_count": null,
   "outputs": [],
   "source": [
    "bert_base_shortest_distance_df"
   ],
   "metadata": {
    "collapsed": false
   }
  },
  {
   "cell_type": "code",
   "execution_count": null,
   "outputs": [],
   "source": [
    "scibert_shortest_distance_df"
   ],
   "metadata": {
    "collapsed": false
   }
  },
  {
   "cell_type": "code",
   "execution_count": null,
   "outputs": [],
   "source": [
    "#legalbert_shortest_distance_df"
   ],
   "metadata": {
    "collapsed": false
   }
  },
  {
   "cell_type": "code",
   "execution_count": null,
   "outputs": [],
   "source": [
    "#combined_shortest_distance_df"
   ],
   "metadata": {
    "collapsed": false
   }
  },
  {
   "cell_type": "code",
   "execution_count": null,
   "outputs": [],
   "source": [
    "#min_max_normalized_combined_df"
   ],
   "metadata": {
    "collapsed": false
   }
  },
  {
   "cell_type": "code",
   "execution_count": null,
   "outputs": [],
   "source": [
    "#z_score_normalized_combined_df"
   ],
   "metadata": {
    "collapsed": false
   }
  },
  {
   "cell_type": "code",
   "execution_count": null,
   "outputs": [],
   "source": [
    "bert_base_cosine_shortest_distance_df"
   ],
   "metadata": {
    "collapsed": false
   }
  },
  {
   "cell_type": "code",
   "execution_count": null,
   "outputs": [],
   "source": [
    "scibert_cosine_shortest_distance_df"
   ],
   "metadata": {
    "collapsed": false
   }
  },
  {
   "cell_type": "code",
   "execution_count": null,
   "outputs": [],
   "source": [
    "#legalbert_cosine_shortest_distance_df"
   ],
   "metadata": {
    "collapsed": false
   }
  },
  {
   "cell_type": "code",
   "execution_count": null,
   "outputs": [],
   "source": [
    "#cosine_combined_shortest_distance_df"
   ],
   "metadata": {
    "collapsed": false
   }
  },
  {
   "cell_type": "code",
   "execution_count": null,
   "outputs": [],
   "source": [
    "#cosine_min_max_normalized_combined_df"
   ],
   "metadata": {
    "collapsed": false
   }
  },
  {
   "cell_type": "code",
   "execution_count": null,
   "outputs": [],
   "source": [
    "#cosine_z_score_normalized_combined_df"
   ],
   "metadata": {
    "collapsed": false
   }
  },
  {
   "cell_type": "code",
   "execution_count": null,
   "outputs": [],
   "source": [
    "#max_npmi_df"
   ],
   "metadata": {
    "collapsed": false
   }
  },
  {
   "cell_type": "code",
   "execution_count": null,
   "outputs": [],
   "source": [
    "#cosine_max_npmi_df"
   ],
   "metadata": {
    "collapsed": false
   }
  },
  {
   "cell_type": "code",
   "execution_count": null,
   "outputs": [],
   "source": [
    "pd.read_pickle(\"/home/chris/COMP4951-Thesis-Out-of-Vocab-Seed-Mining/src/data/new_result_data/amazon_bert_base_shortest_distance_ranked.pkl\")"
   ],
   "metadata": {
    "collapsed": false,
    "ExecuteTime": {
     "end_time": "2023-08-06T16:18:33.642123200Z",
     "start_time": "2023-08-06T16:18:33.604494800Z"
    }
   }
  },
  {
   "cell_type": "code",
   "execution_count": null,
   "outputs": [],
   "source": [
    "pd.read_pickle(\"/home/chris/COMP4951-Thesis-Out-of-Vocab-Seed-Mining/src/data/new_result_data/seetopic_amazon_result.pkl\")"
   ],
   "metadata": {
    "collapsed": false
   }
  },
  {
   "cell_type": "code",
   "execution_count": null,
   "outputs": [],
   "source": [],
   "metadata": {
    "collapsed": false
   }
  }
 ],
 "metadata": {
  "kernelspec": {
   "display_name": "Python 3",
   "language": "python",
   "name": "python3"
  },
  "language_info": {
   "codemirror_mode": {
    "name": "ipython",
    "version": 2
   },
   "file_extension": ".py",
   "mimetype": "text/x-python",
   "name": "python",
   "nbconvert_exporter": "python",
   "pygments_lexer": "ipython2",
   "version": "2.7.6"
  }
 },
 "nbformat": 4,
 "nbformat_minor": 0
}
