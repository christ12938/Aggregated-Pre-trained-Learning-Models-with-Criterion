{
 "cells": [
  {
   "cell_type": "code",
   "execution_count": 1,
   "metadata": {
    "collapsed": true,
    "ExecuteTime": {
     "end_time": "2023-07-07T12:42:36.105721600Z",
     "start_time": "2023-07-07T12:42:35.844495Z"
    }
   },
   "outputs": [],
   "source": [
    "import pandas as pd"
   ]
  },
  {
   "cell_type": "code",
   "execution_count": 2,
   "outputs": [],
   "source": [
    "bert_base_shortest_distance = \"/home/chris/COMP4951-Thesis-Out-of-Vocab-Seed-Mining/src/data/result_data/bert_base_shortest_distance.csv\"\n",
    "scibert_shortest_distance = \"/home/chris/COMP4951-Thesis-Out-of-Vocab-Seed-Mining/src/data/result_data/scibert_shortest_distance.csv\"\n",
    "combined_shortest_distance = \"/home/chris/COMP4951-Thesis-Out-of-Vocab-Seed-Mining/src/data/result_data/bert_base_scibert_combined_shortest_distance.csv\"\n"
   ],
   "metadata": {
    "collapsed": false,
    "ExecuteTime": {
     "end_time": "2023-07-07T12:42:36.119910400Z",
     "start_time": "2023-07-07T12:42:36.104722100Z"
    }
   }
  },
  {
   "cell_type": "code",
   "execution_count": 3,
   "outputs": [],
   "source": [
    "bert_base_shortest_distance_df = pd.read_csv(bert_base_shortest_distance, na_filter=False)\n",
    "scibert_shortest_distance_df = pd.read_csv(scibert_shortest_distance, na_filter=False)\n",
    "combined_shortest_distance_df = pd.read_csv(combined_shortest_distance, na_filter=False)"
   ],
   "metadata": {
    "collapsed": false,
    "ExecuteTime": {
     "end_time": "2023-07-07T12:42:36.382186500Z",
     "start_time": "2023-07-07T12:42:36.120914100Z"
    }
   }
  },
  {
   "cell_type": "code",
   "execution_count": 4,
   "outputs": [
    {
     "data": {
      "text/plain": "    Unnamed: 0                         seeds  \\\n0            0       cardiovascular diseases   \n1            1        chronic kidney disease   \n2            2  chronic respiratory diseases   \n3            3             diabetes mellitus   \n4            4            digestive diseases   \n5            5                      hiv/aids   \n6            6             hepatitis a/b/c/e   \n7            7              mental disorders   \n8            8     musculoskeletal disorders   \n9            9            neoplasms (cancer)   \n10          10        neurological disorders   \n11          11                           hiv   \n12          12                       disease   \n\n                                                words  \n0   ['e-commerce', 'information', 'infrastructure'...  \n1   ['hypertension', 'pathological', 'sepsis', 'mu...  \n2   ['microbial', 'すべては', '日帝下', 'diversification'...  \n3   ['plagues', 'aulis', 'morbidity', 'prognosis',...  \n4   ['hemodynamic', 'preventive', 'herbivores', 'h...  \n5   ['malaria', 'contraceptive', 'flag', 'rai', 'h...  \n6   ['four', '青色発光cas', 'f薄膜の熱処理と発光特性', \"c's\", '-d...  \n7   ['objectivity', 'classifiers', 'expressiveness...  \n8   ['reviewpulmonary', 'thrombosis', 'fibrillatio...  \n9   ['determinants', 'ecommerce', 'revolutionizes'...  \n10  ['shows', 'generals', 'events', 'diagnoses', '...  \n11  ['the', 'classification', 'numerous', 'have', ...  \n12  ['on', 'of', 'sciences', 'studies', 'obstacles...  ",
      "text/html": "<div>\n<style scoped>\n    .dataframe tbody tr th:only-of-type {\n        vertical-align: middle;\n    }\n\n    .dataframe tbody tr th {\n        vertical-align: top;\n    }\n\n    .dataframe thead th {\n        text-align: right;\n    }\n</style>\n<table border=\"1\" class=\"dataframe\">\n  <thead>\n    <tr style=\"text-align: right;\">\n      <th></th>\n      <th>Unnamed: 0</th>\n      <th>seeds</th>\n      <th>words</th>\n    </tr>\n  </thead>\n  <tbody>\n    <tr>\n      <th>0</th>\n      <td>0</td>\n      <td>cardiovascular diseases</td>\n      <td>['e-commerce', 'information', 'infrastructure'...</td>\n    </tr>\n    <tr>\n      <th>1</th>\n      <td>1</td>\n      <td>chronic kidney disease</td>\n      <td>['hypertension', 'pathological', 'sepsis', 'mu...</td>\n    </tr>\n    <tr>\n      <th>2</th>\n      <td>2</td>\n      <td>chronic respiratory diseases</td>\n      <td>['microbial', 'すべては', '日帝下', 'diversification'...</td>\n    </tr>\n    <tr>\n      <th>3</th>\n      <td>3</td>\n      <td>diabetes mellitus</td>\n      <td>['plagues', 'aulis', 'morbidity', 'prognosis',...</td>\n    </tr>\n    <tr>\n      <th>4</th>\n      <td>4</td>\n      <td>digestive diseases</td>\n      <td>['hemodynamic', 'preventive', 'herbivores', 'h...</td>\n    </tr>\n    <tr>\n      <th>5</th>\n      <td>5</td>\n      <td>hiv/aids</td>\n      <td>['malaria', 'contraceptive', 'flag', 'rai', 'h...</td>\n    </tr>\n    <tr>\n      <th>6</th>\n      <td>6</td>\n      <td>hepatitis a/b/c/e</td>\n      <td>['four', '青色発光cas', 'f薄膜の熱処理と発光特性', \"c's\", '-d...</td>\n    </tr>\n    <tr>\n      <th>7</th>\n      <td>7</td>\n      <td>mental disorders</td>\n      <td>['objectivity', 'classifiers', 'expressiveness...</td>\n    </tr>\n    <tr>\n      <th>8</th>\n      <td>8</td>\n      <td>musculoskeletal disorders</td>\n      <td>['reviewpulmonary', 'thrombosis', 'fibrillatio...</td>\n    </tr>\n    <tr>\n      <th>9</th>\n      <td>9</td>\n      <td>neoplasms (cancer)</td>\n      <td>['determinants', 'ecommerce', 'revolutionizes'...</td>\n    </tr>\n    <tr>\n      <th>10</th>\n      <td>10</td>\n      <td>neurological disorders</td>\n      <td>['shows', 'generals', 'events', 'diagnoses', '...</td>\n    </tr>\n    <tr>\n      <th>11</th>\n      <td>11</td>\n      <td>hiv</td>\n      <td>['the', 'classification', 'numerous', 'have', ...</td>\n    </tr>\n    <tr>\n      <th>12</th>\n      <td>12</td>\n      <td>disease</td>\n      <td>['on', 'of', 'sciences', 'studies', 'obstacles...</td>\n    </tr>\n  </tbody>\n</table>\n</div>"
     },
     "execution_count": 4,
     "metadata": {},
     "output_type": "execute_result"
    }
   ],
   "source": [
    "bert_base_shortest_distance_df"
   ],
   "metadata": {
    "collapsed": false,
    "ExecuteTime": {
     "end_time": "2023-07-07T12:42:36.420311700Z",
     "start_time": "2023-07-07T12:42:36.384185600Z"
    }
   }
  },
  {
   "cell_type": "code",
   "execution_count": 5,
   "outputs": [
    {
     "data": {
      "text/plain": "    Unnamed: 0                         seeds  \\\n0            0       cardiovascular diseases   \n1            1        chronic kidney disease   \n2            2  chronic respiratory diseases   \n3            3             diabetes mellitus   \n4            4            digestive diseases   \n5            5                      hiv/aids   \n6            6             hepatitis a/b/c/e   \n7            7              mental disorders   \n8            8     musculoskeletal disorders   \n9            9            neoplasms (cancer)   \n10          10        neurological disorders   \n11          11                           hiv   \n12          12                       disease   \n\n                                                words  \n0   ['readmissions', 'cardiologists', 'noncardiova...  \n1   ['chakravarty', 'consorting', 'nephrology', 'g...  \n2   ['pulmonologists', 'bronchiolitis', 'bronchodi...  \n3   ['hypertension', 'antihypertensive', 'antihype...  \n4   ['zoologists', 'hydrology', 'psychosomatics', ...  \n5   ['plagues', \"'s\", 'nepal', \"what's\", 'paleogeo...  \n6   ['ifn-α-based', 'ifn-α-related', 'non-ifn-α-ba...  \n7   ['harassment', 'feminist', 'psychoanalysis', '...  \n8   ['strength', 'dentists', 'pediatricians', 'pae...  \n9   ['on', 'the', 'sciences', 'e-commerce', 'obsta...  \n10  ['studies', 'practices', 'weaknesses', 'findin...  \n11  ['of', 'numerous', 'emphasized', 'to', 'it', '...  \n12  ['classification', 'have', 'sway', 'related', ...  ",
      "text/html": "<div>\n<style scoped>\n    .dataframe tbody tr th:only-of-type {\n        vertical-align: middle;\n    }\n\n    .dataframe tbody tr th {\n        vertical-align: top;\n    }\n\n    .dataframe thead th {\n        text-align: right;\n    }\n</style>\n<table border=\"1\" class=\"dataframe\">\n  <thead>\n    <tr style=\"text-align: right;\">\n      <th></th>\n      <th>Unnamed: 0</th>\n      <th>seeds</th>\n      <th>words</th>\n    </tr>\n  </thead>\n  <tbody>\n    <tr>\n      <th>0</th>\n      <td>0</td>\n      <td>cardiovascular diseases</td>\n      <td>['readmissions', 'cardiologists', 'noncardiova...</td>\n    </tr>\n    <tr>\n      <th>1</th>\n      <td>1</td>\n      <td>chronic kidney disease</td>\n      <td>['chakravarty', 'consorting', 'nephrology', 'g...</td>\n    </tr>\n    <tr>\n      <th>2</th>\n      <td>2</td>\n      <td>chronic respiratory diseases</td>\n      <td>['pulmonologists', 'bronchiolitis', 'bronchodi...</td>\n    </tr>\n    <tr>\n      <th>3</th>\n      <td>3</td>\n      <td>diabetes mellitus</td>\n      <td>['hypertension', 'antihypertensive', 'antihype...</td>\n    </tr>\n    <tr>\n      <th>4</th>\n      <td>4</td>\n      <td>digestive diseases</td>\n      <td>['zoologists', 'hydrology', 'psychosomatics', ...</td>\n    </tr>\n    <tr>\n      <th>5</th>\n      <td>5</td>\n      <td>hiv/aids</td>\n      <td>['plagues', \"'s\", 'nepal', \"what's\", 'paleogeo...</td>\n    </tr>\n    <tr>\n      <th>6</th>\n      <td>6</td>\n      <td>hepatitis a/b/c/e</td>\n      <td>['ifn-α-based', 'ifn-α-related', 'non-ifn-α-ba...</td>\n    </tr>\n    <tr>\n      <th>7</th>\n      <td>7</td>\n      <td>mental disorders</td>\n      <td>['harassment', 'feminist', 'psychoanalysis', '...</td>\n    </tr>\n    <tr>\n      <th>8</th>\n      <td>8</td>\n      <td>musculoskeletal disorders</td>\n      <td>['strength', 'dentists', 'pediatricians', 'pae...</td>\n    </tr>\n    <tr>\n      <th>9</th>\n      <td>9</td>\n      <td>neoplasms (cancer)</td>\n      <td>['on', 'the', 'sciences', 'e-commerce', 'obsta...</td>\n    </tr>\n    <tr>\n      <th>10</th>\n      <td>10</td>\n      <td>neurological disorders</td>\n      <td>['studies', 'practices', 'weaknesses', 'findin...</td>\n    </tr>\n    <tr>\n      <th>11</th>\n      <td>11</td>\n      <td>hiv</td>\n      <td>['of', 'numerous', 'emphasized', 'to', 'it', '...</td>\n    </tr>\n    <tr>\n      <th>12</th>\n      <td>12</td>\n      <td>disease</td>\n      <td>['classification', 'have', 'sway', 'related', ...</td>\n    </tr>\n  </tbody>\n</table>\n</div>"
     },
     "execution_count": 5,
     "metadata": {},
     "output_type": "execute_result"
    }
   ],
   "source": [
    "scibert_shortest_distance_df"
   ],
   "metadata": {
    "collapsed": false,
    "ExecuteTime": {
     "end_time": "2023-07-07T12:42:36.504109800Z",
     "start_time": "2023-07-07T12:42:36.413805100Z"
    }
   }
  },
  {
   "cell_type": "code",
   "execution_count": 6,
   "outputs": [
    {
     "data": {
      "text/plain": "    Unnamed: 0                         seeds  \\\n0            0       cardiovascular diseases   \n1            1        chronic kidney disease   \n2            2  chronic respiratory diseases   \n3            3             diabetes mellitus   \n4            4            digestive diseases   \n5            5                      hiv/aids   \n6            6             hepatitis a/b/c/e   \n7            7              mental disorders   \n8            8     musculoskeletal disorders   \n9            9            neoplasms (cancer)   \n10          10        neurological disorders   \n11          11                           hiv   \n12          12                       disease   \n\n                                                words  \n0   ['e-commerce', 'information', 'infrastructure'...  \n1   ['hypertension', 'pathological', 'munro', 'bro...  \n2   ['すべては', '日帝下', 'diversification', 'ozeki', 'm...  \n3   ['plagues', 'aulis', 'morbidity', 'prognosis',...  \n4   ['hemodynamic', 'preventive', 'herbivores', 'h...  \n5   ['rai', 'hiv-infected', 'congoland', 'hiv-', '...  \n6   ['four', '青色発光cas', 'f薄膜の熱処理と発光特性', \"c's\", '-d...  \n7   ['objectivity', 'classifiers', 'expressiveness...  \n8   ['reviewpulmonary', 'thrombosis', 'fibrillatio...  \n9   ['determinants', 'ecommerce', 'revolutionizes'...  \n10  ['shows', 'services', 'functions', 'generals',...  \n11  ['the', 'classification', 'numerous', 'have', ...  \n12  ['on', 'of', 'sciences', 'studies', 'obstacles...  ",
      "text/html": "<div>\n<style scoped>\n    .dataframe tbody tr th:only-of-type {\n        vertical-align: middle;\n    }\n\n    .dataframe tbody tr th {\n        vertical-align: top;\n    }\n\n    .dataframe thead th {\n        text-align: right;\n    }\n</style>\n<table border=\"1\" class=\"dataframe\">\n  <thead>\n    <tr style=\"text-align: right;\">\n      <th></th>\n      <th>Unnamed: 0</th>\n      <th>seeds</th>\n      <th>words</th>\n    </tr>\n  </thead>\n  <tbody>\n    <tr>\n      <th>0</th>\n      <td>0</td>\n      <td>cardiovascular diseases</td>\n      <td>['e-commerce', 'information', 'infrastructure'...</td>\n    </tr>\n    <tr>\n      <th>1</th>\n      <td>1</td>\n      <td>chronic kidney disease</td>\n      <td>['hypertension', 'pathological', 'munro', 'bro...</td>\n    </tr>\n    <tr>\n      <th>2</th>\n      <td>2</td>\n      <td>chronic respiratory diseases</td>\n      <td>['すべては', '日帝下', 'diversification', 'ozeki', 'm...</td>\n    </tr>\n    <tr>\n      <th>3</th>\n      <td>3</td>\n      <td>diabetes mellitus</td>\n      <td>['plagues', 'aulis', 'morbidity', 'prognosis',...</td>\n    </tr>\n    <tr>\n      <th>4</th>\n      <td>4</td>\n      <td>digestive diseases</td>\n      <td>['hemodynamic', 'preventive', 'herbivores', 'h...</td>\n    </tr>\n    <tr>\n      <th>5</th>\n      <td>5</td>\n      <td>hiv/aids</td>\n      <td>['rai', 'hiv-infected', 'congoland', 'hiv-', '...</td>\n    </tr>\n    <tr>\n      <th>6</th>\n      <td>6</td>\n      <td>hepatitis a/b/c/e</td>\n      <td>['four', '青色発光cas', 'f薄膜の熱処理と発光特性', \"c's\", '-d...</td>\n    </tr>\n    <tr>\n      <th>7</th>\n      <td>7</td>\n      <td>mental disorders</td>\n      <td>['objectivity', 'classifiers', 'expressiveness...</td>\n    </tr>\n    <tr>\n      <th>8</th>\n      <td>8</td>\n      <td>musculoskeletal disorders</td>\n      <td>['reviewpulmonary', 'thrombosis', 'fibrillatio...</td>\n    </tr>\n    <tr>\n      <th>9</th>\n      <td>9</td>\n      <td>neoplasms (cancer)</td>\n      <td>['determinants', 'ecommerce', 'revolutionizes'...</td>\n    </tr>\n    <tr>\n      <th>10</th>\n      <td>10</td>\n      <td>neurological disorders</td>\n      <td>['shows', 'services', 'functions', 'generals',...</td>\n    </tr>\n    <tr>\n      <th>11</th>\n      <td>11</td>\n      <td>hiv</td>\n      <td>['the', 'classification', 'numerous', 'have', ...</td>\n    </tr>\n    <tr>\n      <th>12</th>\n      <td>12</td>\n      <td>disease</td>\n      <td>['on', 'of', 'sciences', 'studies', 'obstacles...</td>\n    </tr>\n  </tbody>\n</table>\n</div>"
     },
     "execution_count": 6,
     "metadata": {},
     "output_type": "execute_result"
    }
   ],
   "source": [
    "combined_shortest_distance_df"
   ],
   "metadata": {
    "collapsed": false,
    "ExecuteTime": {
     "end_time": "2023-07-07T12:42:36.504109800Z",
     "start_time": "2023-07-07T12:42:36.467569500Z"
    }
   }
  }
 ],
 "metadata": {
  "kernelspec": {
   "display_name": "Python 3",
   "language": "python",
   "name": "python3"
  },
  "language_info": {
   "codemirror_mode": {
    "name": "ipython",
    "version": 2
   },
   "file_extension": ".py",
   "mimetype": "text/x-python",
   "name": "python",
   "nbconvert_exporter": "python",
   "pygments_lexer": "ipython2",
   "version": "2.7.6"
  }
 },
 "nbformat": 4,
 "nbformat_minor": 0
}
